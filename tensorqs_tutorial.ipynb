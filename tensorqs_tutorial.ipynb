{
 "cells": [
  {
   "cell_type": "code",
   "execution_count": 1,
   "metadata": {},
   "outputs": [
    {
     "name": "stderr",
     "output_type": "stream",
     "text": [
      "c:\\Users\\86433\\.conda\\envs\\yolov6\\lib\\site-packages\\tqdm\\auto.py:22: TqdmWarning: IProgress not found. Please update jupyter and ipywidgets. See https://ipywidgets.readthedocs.io/en/stable/user_install.html\n",
      "  from .autonotebook import tqdm as notebook_tqdm\n"
     ]
    }
   ],
   "source": [
    "import torch\n",
    "x = torch.rand(2,2)\n",
    "y = torch.rand(2,2)"
   ]
  },
  {
   "cell_type": "code",
   "execution_count": 2,
   "metadata": {},
   "outputs": [
    {
     "data": {
      "text/plain": [
       "tensor([[0.7514, 0.3861],\n",
       "        [0.2436, 0.2535]])"
      ]
     },
     "execution_count": 2,
     "metadata": {},
     "output_type": "execute_result"
    }
   ],
   "source": [
    "x"
   ]
  },
  {
   "cell_type": "code",
   "execution_count": 3,
   "metadata": {},
   "outputs": [
    {
     "data": {
      "text/plain": [
       "tensor([[0.0821, 0.1974],\n",
       "        [0.2348, 0.9711]])"
      ]
     },
     "execution_count": 3,
     "metadata": {},
     "output_type": "execute_result"
    }
   ],
   "source": [
    "y"
   ]
  },
  {
   "attachments": {},
   "cell_type": "markdown",
   "metadata": {},
   "source": [
    "# 矩阵相加，两种写法"
   ]
  },
  {
   "cell_type": "code",
   "execution_count": 4,
   "metadata": {},
   "outputs": [
    {
     "data": {
      "text/plain": [
       "tensor([[0.8334, 0.5835],\n",
       "        [0.4784, 1.2246]])"
      ]
     },
     "execution_count": 4,
     "metadata": {},
     "output_type": "execute_result"
    }
   ],
   "source": [
    "z = x + y # 1\n",
    "z = torch.add(x,y) # 2\n",
    "z"
   ]
  },
  {
   "attachments": {},
   "cell_type": "markdown",
   "metadata": {},
   "source": [
    "# 矩阵相减两种方法"
   ]
  },
  {
   "cell_type": "code",
   "execution_count": 5,
   "metadata": {},
   "outputs": [
    {
     "data": {
      "text/plain": [
       "tensor([[ 0.6693,  0.1887],\n",
       "        [ 0.0087, -0.7176]])"
      ]
     },
     "execution_count": 5,
     "metadata": {},
     "output_type": "execute_result"
    }
   ],
   "source": [
    "z = x - y # 1\n",
    "z = torch.sub(x,y) # 2\n",
    "z"
   ]
  },
  {
   "attachments": {},
   "cell_type": "markdown",
   "metadata": {},
   "source": [
    "# 矩阵相乘两种方法 "
   ]
  },
  {
   "cell_type": "code",
   "execution_count": 6,
   "metadata": {},
   "outputs": [
    {
     "data": {
      "text/plain": [
       "tensor([[0.0617, 0.0762],\n",
       "        [0.0572, 0.2462]])"
      ]
     },
     "execution_count": 6,
     "metadata": {},
     "output_type": "execute_result"
    }
   ],
   "source": [
    "z = x * y # 1\n",
    "z = torch.mul(x,y) # 2\n",
    "z"
   ]
  },
  {
   "attachments": {},
   "cell_type": "markdown",
   "metadata": {},
   "source": [
    "# 矩阵相除两种方法"
   ]
  },
  {
   "cell_type": "code",
   "execution_count": 7,
   "metadata": {},
   "outputs": [
    {
     "data": {
      "text/plain": [
       "tensor([[9.1560, 1.9557],\n",
       "        [1.0371, 0.2611]])"
      ]
     },
     "execution_count": 7,
     "metadata": {},
     "output_type": "execute_result"
    }
   ],
   "source": [
    "z = x / y # 1\n",
    "z = torch.div(x,y) # 2\n",
    "z"
   ]
  },
  {
   "attachments": {},
   "cell_type": "markdown",
   "metadata": {},
   "source": [
    "# 矩阵的切片获取"
   ]
  },
  {
   "cell_type": "code",
   "execution_count": 10,
   "metadata": {},
   "outputs": [
    {
     "name": "stdout",
     "output_type": "stream",
     "text": [
      "tensor([[0.5217, 0.8466, 0.6263],\n",
      "        [0.2707, 0.5524, 0.6572],\n",
      "        [0.4185, 0.7940, 0.0058],\n",
      "        [0.3444, 0.6484, 0.9877],\n",
      "        [0.4874, 0.5078, 0.6890]])\n",
      "tensor([0.5217, 0.2707, 0.4185, 0.3444, 0.4874])\n",
      "tensor([0.5217, 0.8466, 0.6263])\n",
      "tensor(0.5524)\n",
      "0.552363932132721\n"
     ]
    }
   ],
   "source": [
    "n = torch.rand(5, 3)\n",
    "print(n)\n",
    "#遍历所有行，每一行都取第0个元素\n",
    "print(n[:,0])\n",
    "#遍历所有行，每一行都取第0个元素\n",
    "print(n[0,:])\n",
    "#读第一行，第一列的元素\n",
    "print(n[1, 1])\n",
    "#只输出第一行，第一列的元素的值\n",
    "print(n[1, 1].item())"
   ]
  },
  {
   "attachments": {},
   "cell_type": "markdown",
   "metadata": {},
   "source": [
    "# 在gpu运算"
   ]
  },
  {
   "cell_type": "code",
   "execution_count": null,
   "metadata": {},
   "outputs": [],
   "source": [
    "import torch\n",
    "import numpy as np\n",
    "\n",
    "if torch.cuda.is_available():\n",
    "    device = torch.device(\"cuda\")\n",
    "    x = torch.ones(5,device=device) #x一步将矩阵放进gpu，y用两步\n",
    "    y = torch.ones(5)\n",
    "    y = y.to(device)\n",
    "    z = x + y   #因为x&y都在gpu上了，所以这样运算会快很多\n",
    "    #numpy不能在gpu中直接使用，需要转回CPU再用\n",
    "    z = z.to(\"cpu\")"
   ]
  }
 ],
 "metadata": {
  "kernelspec": {
   "display_name": "yolov6",
   "language": "python",
   "name": "python3"
  },
  "language_info": {
   "codemirror_mode": {
    "name": "ipython",
    "version": 3
   },
   "file_extension": ".py",
   "mimetype": "text/x-python",
   "name": "python",
   "nbconvert_exporter": "python",
   "pygments_lexer": "ipython3",
   "version": "3.8.13"
  },
  "orig_nbformat": 4,
  "vscode": {
   "interpreter": {
    "hash": "ed7e66675bf2c7157c048a2e21befb948b2a2c365f9b3f378b4f7d559b7c215e"
   }
  }
 },
 "nbformat": 4,
 "nbformat_minor": 2
}
